{
 "cells": [
  {
   "cell_type": "code",
   "execution_count": 1,
   "id": "9e598df2-66f7-4265-8f80-4b3940a68df9",
   "metadata": {},
   "outputs": [],
   "source": [
    "import numpy as np \n",
    "import cv2"
   ]
  },
  {
   "cell_type": "code",
   "execution_count": 2,
   "id": "ccea76e9-b072-436a-9fac-1f2848f748a9",
   "metadata": {},
   "outputs": [],
   "source": [
    "corner_track_param = dict(maxCorners = 10, qualityLevel= 0.3,minDistance = 7 , blockSize = 7 )"
   ]
  },
  {
   "cell_type": "code",
   "execution_count": 3,
   "id": "b973cc32-81ee-45a1-9642-bdb9e8fc74a8",
   "metadata": {},
   "outputs": [],
   "source": [
    "lk_param = dict(winSize = (200,200), maxLevel = 2, criteria = (cv2.TERM_CRITERIA_EPS | cv2.TERM_CRITERIA_COUNT,10,0.03))"
   ]
  },
  {
   "cell_type": "code",
   "execution_count": 6,
   "id": "2b365874-124a-4950-a70e-2e661bbafa13",
   "metadata": {},
   "outputs": [],
   "source": [
    "cap = cv2.VideoCapture(0)\n",
    "\n",
    "ret, prev_frame = cap.read()\n",
    "\n",
    "prev_gray = cv2.cvtColor(prev_frame,cv2.COLOR_BGR2GRAY)\n",
    "\n",
    "# PTS TO TRACK\n",
    "\n",
    "prevPts = cv2.goodFeaturesToTrack(prev_gray,mask= None,**corner_track_param)\n",
    "\n",
    "mask = np.zeros_like(prev_frame)\n",
    "\n",
    "while True:\n",
    "    \n",
    "    ret, frame = cap.read()\n",
    "    \n",
    "    frame_gray = cv2.cvtColor(frame,cv2.COLOR_BGR2GRAY)\n",
    "    \n",
    "    nextPts, status, err = cv2.calcOpticalFlowPyrLK(prev_gray, frame_gray, prevPts,None,**lk_param)\n",
    "    \n",
    "    good_new = nextPts[status ==1]\n",
    "    good_prev = prevPts[status == 1]\n",
    "    \n",
    "    for i, (new,prev) in enumerate(zip(good_new,good_prev)):\n",
    "        \n",
    "        x_new, y_new = new.ravel()\n",
    "        x_prev, y_prev = prev.ravel()\n",
    "        #print(int(x_new), int(y_new))\n",
    "        #print(int(x_prev), int(y_prev))\n",
    "        mask = cv2.line(mask,(int(x_new), int(y_new)),(int(x_prev), int(y_prev)),(0,255,0),3)\n",
    "        \n",
    "        frame = cv2.circle(frame,(int(x_new), int(y_new)),8,(0,0,255),-1)\n",
    "        \n",
    "        \n",
    "    img = cv2.add(frame, mask)\n",
    "    cv2.imshow('tracking',img)\n",
    "    \n",
    "    k= cv2.waitKey(30) & 0xFF\n",
    "    if k == 27:\n",
    "        break\n",
    "        \n",
    "    prev_gray = frame_gray.copy()\n",
    "    prevPts = good_new.reshape(-1,1,2)\n",
    "\n",
    "    \n",
    "cv2.destroyAllWindows()\n",
    "cap.release()\n",
    "    "
   ]
  },
  {
   "cell_type": "code",
   "execution_count": null,
   "id": "5622a83b-b1e3-4433-afe6-727d7a1b57bb",
   "metadata": {},
   "outputs": [],
   "source": []
  },
  {
   "cell_type": "code",
   "execution_count": null,
   "id": "10adbfdf-2590-4815-8321-9be8cca0ffeb",
   "metadata": {},
   "outputs": [],
   "source": []
  },
  {
   "cell_type": "code",
   "execution_count": null,
   "id": "ee199ad3-d4a6-4a1e-98e7-5579f5ea269d",
   "metadata": {},
   "outputs": [],
   "source": []
  },
  {
   "cell_type": "code",
   "execution_count": null,
   "id": "bd27c40d-c31d-4a32-910d-fc71638b3444",
   "metadata": {},
   "outputs": [],
   "source": []
  },
  {
   "cell_type": "code",
   "execution_count": 7,
   "id": "a22b9da6-90ac-4e50-bef5-dd9a087d9e0f",
   "metadata": {},
   "outputs": [],
   "source": [
    "import cv2\n",
    "import numpy as np"
   ]
  },
  {
   "cell_type": "code",
   "execution_count": 10,
   "id": "c298f3cd-7b59-4852-824d-da855737c018",
   "metadata": {},
   "outputs": [],
   "source": [
    "cap = cv2.VideoCapture(0)\n",
    "\n",
    "ret, frame1 = cap.read()\n",
    "\n",
    "prvsImg = cv2.cvtColor(frame1, cv2.COLOR_BGR2GRAY)\n",
    "\n",
    "hsv_mask = np.zeros_like(frame1)\n",
    "hsv_mask[:,:,1]=255\n",
    "\n",
    "while True:\n",
    "    \n",
    "    ret, frame2 = cap.read()\n",
    "    \n",
    "    nextImg =cv2.cvtColor(frame2, cv2.COLOR_BGR2GRAY)\n",
    "    \n",
    "    flow = cv2.calcOpticalFlowFarneback(prvsImg, nextImg,None,0.5,3,15,3,5,1.2,0 )\n",
    "\n",
    "    mag, ang = cv2.cartToPolar(flow[:,:,0],flow[:,:,1])\n",
    "    \n",
    "    hsv_mask[:,:,0] = ang/2\n",
    "    \n",
    "    hsv_mask[:,:,2] = cv2.normalize(mag, None,0,255,cv2.NORM_MINMAX)\n",
    "    \n",
    "    bgr = cv2.cvtColor(hsv_mask,cv2.COLOR_HSV2BGR)\n",
    "    \n",
    "    cv2.imshow('frame', bgr)\n",
    "    \n",
    "    k=cv2.waitKey(10) & 0xFF\n",
    "    if k == 27:\n",
    "        break\n",
    "        \n",
    "    prvsImg = nextImg\n",
    "    \n",
    "cap.release()\n",
    "cv2.destroyAllWindows()\n"
   ]
  },
  {
   "cell_type": "code",
   "execution_count": null,
   "id": "dc10217b-0903-4412-8649-7ce30dcb3ec8",
   "metadata": {},
   "outputs": [],
   "source": []
  }
 ],
 "metadata": {
  "kernelspec": {
   "display_name": "Python 3",
   "language": "python",
   "name": "python3"
  },
  "language_info": {
   "codemirror_mode": {
    "name": "ipython",
    "version": 3
   },
   "file_extension": ".py",
   "mimetype": "text/x-python",
   "name": "python",
   "nbconvert_exporter": "python",
   "pygments_lexer": "ipython3",
   "version": "3.8.8"
  }
 },
 "nbformat": 4,
 "nbformat_minor": 5
}
